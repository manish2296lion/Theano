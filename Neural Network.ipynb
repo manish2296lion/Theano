{
 "cells": [
  {
   "cell_type": "code",
   "execution_count": 1,
   "metadata": {
    "collapsed": false
   },
   "outputs": [
    {
     "name": "stderr",
     "output_type": "stream",
     "text": [
      "WARNING (theano.sandbox.cuda): The cuda backend is deprecated and will be removed in the next release (v0.10).  Please switch to the gpuarray backend. You can get more information about how to switch at this URL:\n",
      " https://github.com/Theano/Theano/wiki/Converting-to-the-new-gpu-back-end%28gpuarray%29\n",
      "\n",
      "Using gpu device 0: GeForce 840M (CNMeM is enabled with initial size: 80.0% of memory, cuDNN 5110)\n"
     ]
    }
   ],
   "source": [
    "import numpy as np\n",
    "import theano\n",
    "from theano import tensor as T\n",
    "theano.config.optimizer='fast_compile'\n",
    "theano.config.exception_verbosity='high'\n",
    "theano.config.compute_test_value = 'warn'"
   ]
  },
  {
   "cell_type": "code",
   "execution_count": 2,
   "metadata": {
    "collapsed": true
   },
   "outputs": [],
   "source": [
    "x = T.dmatrix()\n",
    "y = T.dvector()\n",
    "x.tag.test_value=np.concatenate((np.array([[0,1],[1,0],[1,1],[0,0]]),np.ones((4,1))),axis=1)\n",
    "y.tag.test_value=np.array([1, 1, 0, 0])"
   ]
  },
  {
   "cell_type": "code",
   "execution_count": 3,
   "metadata": {
    "collapsed": false
   },
   "outputs": [
    {
     "name": "stdout",
     "output_type": "stream",
     "text": [
      "(array([[ 0.,  1.,  1.],\n",
      "       [ 1.,  0.,  1.],\n",
      "       [ 1.,  1.,  1.],\n",
      "       [ 0.,  0.,  1.]]), array([1, 1, 0, 0]))\n"
     ]
    }
   ],
   "source": [
    "D=(np.concatenate((np.array([[0,1],[1,0],[1,1],[0,0]]),np.ones((4,1))),axis=1),np.array([1, 1, 0, 0]))\n",
    "print D"
   ]
  },
  {
   "cell_type": "code",
   "execution_count": 4,
   "metadata": {
    "collapsed": false
   },
   "outputs": [],
   "source": [
    "noOfIternations = 100000"
   ]
  },
  {
   "cell_type": "code",
   "execution_count": 5,
   "metadata": {
    "collapsed": false
   },
   "outputs": [],
   "source": [
    "w1 = theano.shared(np.random.rand(3,3),name=\"w1\")\n",
    "w2 = theano.shared(np.random.rand(4,1),name=\"w2\")"
   ]
  },
  {
   "cell_type": "code",
   "execution_count": 6,
   "metadata": {
    "collapsed": false
   },
   "outputs": [
    {
     "name": "stdout",
     "output_type": "stream",
     "text": [
      "Initial model:\n",
      "[[ 0.13763308  0.13757869  0.91788531]\n",
      " [ 0.24610645  0.51415096  0.83241188]\n",
      " [ 0.45944401  0.69371111  0.43336684]]\n",
      "[[ 0.51566076]\n",
      " [ 0.91167909]\n",
      " [ 0.24401093]\n",
      " [ 0.36741668]]\n"
     ]
    }
   ],
   "source": [
    "print(\"Initial model:\")\n",
    "print(w1.get_value())\n",
    "print(w2.get_value())"
   ]
  },
  {
   "cell_type": "code",
   "execution_count": 7,
   "metadata": {
    "collapsed": false
   },
   "outputs": [],
   "source": [
    "hypothesis1=T.nnet.sigmoid(T.dot(x,w1))\n",
    "hypothesis2=T.nnet.sigmoid(T.dot(T.concatenate([hypothesis1,np.ones((4,1))],axis=1),w2))"
   ]
  },
  {
   "cell_type": "code",
   "execution_count": 8,
   "metadata": {
    "collapsed": false
   },
   "outputs": [
    {
     "name": "stdout",
     "output_type": "stream",
     "text": [
      "Elemwise{mul,no_inplace}.0\n"
     ]
    }
   ],
   "source": [
    "print -T.log(hypothesis2).T*y"
   ]
  },
  {
   "cell_type": "code",
   "execution_count": 9,
   "metadata": {
    "collapsed": false
   },
   "outputs": [],
   "source": [
    "cost=(- T.log(hypothesis2).T*y -  T.log(1-hypothesis2).T*(1-y)).mean()"
   ]
  },
  {
   "cell_type": "code",
   "execution_count": 10,
   "metadata": {
    "collapsed": false
   },
   "outputs": [],
   "source": [
    "gw1,gw2 = T.grad(cost, [w1,w2])"
   ]
  },
  {
   "cell_type": "code",
   "execution_count": 11,
   "metadata": {
    "collapsed": false
   },
   "outputs": [],
   "source": [
    "train=theano.function(inputs=[x, y], outputs=cost, updates=[\n",
    "        (w1, w1-.01*gw1),\n",
    "        (w2, w2-.01*gw2)])"
   ]
  },
  {
   "cell_type": "code",
   "execution_count": null,
   "metadata": {
    "collapsed": true
   },
   "outputs": [],
   "source": []
  },
  {
   "cell_type": "code",
   "execution_count": 13,
   "metadata": {
    "collapsed": false
   },
   "outputs": [
    {
     "name": "stdout",
     "output_type": "stream",
     "text": [
      "0.55807486702\n",
      "0.551681805771\n",
      "0.545346799315\n",
      "0.539062321599\n",
      "0.532814188298\n",
      "0.526581891555\n",
      "0.520338911101\n",
      "0.514052974948\n",
      "0.507686263784\n",
      "0.501195575756\n",
      "0.494532493745\n",
      "0.487643626771\n",
      "0.480471031878\n",
      "0.472952961092\n",
      "0.465025112863\n",
      "0.456622582552\n",
      "0.447682675463\n",
      "0.438148638251\n",
      "0.427974166112\n",
      "0.417128285581\n",
      "0.405599987489\n",
      "0.393401908314\n",
      "0.380572488617\n",
      "0.36717630741\n",
      "0.353302550641\n",
      "0.339061718748\n",
      "0.324580746315\n",
      "0.309996807381\n",
      "0.295450267487\n",
      "0.281077453808\n",
      "0.267004023999\n",
      "0.253339641512\n",
      "0.240174423749\n",
      "0.227577306016\n",
      "0.215596162096\n",
      "0.204259313217\n",
      "0.193577965527\n",
      "0.183549126311\n",
      "0.174158625475\n",
      "0.165383973695\n",
      "0.157196893067\n",
      "0.149565443265\n",
      "0.142455729705\n",
      "0.135833220753\n",
      "0.12966372275\n",
      "0.123914069912\n",
      "0.118552585736\n",
      "0.113549367313\n",
      "0.108876436496\n",
      "0.104507793938\n",
      "0.100419404579\n",
      "0.0965891366207\n",
      "0.092996670612\n",
      "0.0896233908974\n",
      "0.0864522682505\n",
      "0.0834677399021\n",
      "0.080655591192\n",
      "0.0780028416188\n",
      "0.0754976369982\n",
      "0.0731291486822\n"
     ]
    }
   ],
   "source": [
    "for i in xrange(noOfIternations):\n",
    "    costP=train(D[0],D[1])\n",
    "    if(i%500==0):\n",
    "        print costP"
   ]
  },
  {
   "cell_type": "code",
   "execution_count": 15,
   "metadata": {
    "collapsed": false
   },
   "outputs": [
    {
     "data": {
      "text/plain": [
       "array([[ 3.07670524,  1.32331405,  5.96103251],\n",
       "       [ 3.03673617,  1.39564031,  6.00060435],\n",
       "       [-4.66313314, -1.92102677, -2.45438957]])"
      ]
     },
     "execution_count": 15,
     "metadata": {},
     "output_type": "execute_result"
    }
   ],
   "source": [
    "w1.get_value()"
   ]
  },
  {
   "cell_type": "code",
   "execution_count": 14,
   "metadata": {
    "collapsed": false
   },
   "outputs": [],
   "source": [
    "run_forward = theano.function(inputs=[x], outputs=hypothesis2)"
   ]
  },
  {
   "cell_type": "code",
   "execution_count": null,
   "metadata": {
    "collapsed": true
   },
   "outputs": [],
   "source": []
  },
  {
   "cell_type": "code",
   "execution_count": null,
   "metadata": {
    "collapsed": true
   },
   "outputs": [],
   "source": []
  },
  {
   "cell_type": "code",
   "execution_count": null,
   "metadata": {
    "collapsed": false
   },
   "outputs": [],
   "source": [
    "x.tag.test_value"
   ]
  },
  {
   "cell_type": "code",
   "execution_count": 16,
   "metadata": {
    "collapsed": false
   },
   "outputs": [
    {
     "name": "stdout",
     "output_type": "stream",
     "text": [
      "[[ 0.93633708]\n",
      " [ 0.93714726]\n",
      " [ 0.0773157 ]\n",
      " [ 0.06982933]]\n"
     ]
    }
   ],
   "source": [
    "print(run_forward(x.tag.test_value))\n"
   ]
  },
  {
   "cell_type": "code",
   "execution_count": null,
   "metadata": {
    "collapsed": true
   },
   "outputs": [],
   "source": []
  },
  {
   "cell_type": "code",
   "execution_count": null,
   "metadata": {
    "collapsed": true
   },
   "outputs": [],
   "source": []
  }
 ],
 "metadata": {
  "anaconda-cloud": {},
  "kernelspec": {
   "display_name": "Python [conda root]",
   "language": "python",
   "name": "conda-root-py"
  },
  "language_info": {
   "codemirror_mode": {
    "name": "ipython",
    "version": 2
   },
   "file_extension": ".py",
   "mimetype": "text/x-python",
   "name": "python",
   "nbconvert_exporter": "python",
   "pygments_lexer": "ipython2",
   "version": "2.7.12"
  }
 },
 "nbformat": 4,
 "nbformat_minor": 1
}
